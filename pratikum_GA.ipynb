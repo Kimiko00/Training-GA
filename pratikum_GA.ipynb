{
  "nbformat": 4,
  "nbformat_minor": 0,
  "metadata": {
    "colab": {
      "name": "pratikum GA.ipynb",
      "provenance": [],
      "collapsed_sections": [],
      "authorship_tag": "ABX9TyNsYjuwCf0XQLovUFKTtAaW",
      "include_colab_link": true
    },
    "kernelspec": {
      "name": "python3",
      "display_name": "Python 3"
    }
  },
  "cells": [
    {
      "cell_type": "markdown",
      "metadata": {
        "id": "view-in-github",
        "colab_type": "text"
      },
      "source": [
        "<a href=\"https://colab.research.google.com/github/Kimiko00/Training-GA/blob/main/pratikum_GA.ipynb\" target=\"_parent\"><img src=\"https://colab.research.google.com/assets/colab-badge.svg\" alt=\"Open In Colab\"/></a>"
      ]
    },
    {
      "cell_type": "markdown",
      "metadata": {
        "id": "vEPAwRDEt7-f"
      },
      "source": [
        "**ALGORITMA GENETIC FROM SCRATCH**"
      ]
    },
    {
      "cell_type": "code",
      "metadata": {
        "id": "XQteAyUet7MW"
      },
      "source": [
        "import matplotlib.pyplot as plt\n",
        "import pandas as pd\n",
        "import numpy as np\n",
        "import random\n",
        "import operator\n",
        "\n",
        "#untuk library yang akan kita gunka didalam kodingan kita"
      ],
      "execution_count": null,
      "outputs": []
    },
    {
      "cell_type": "markdown",
      "metadata": {
        "id": "eAiaVllCwHJU"
      },
      "source": [
        "**PRATIKUM 1**"
      ]
    },
    {
      "cell_type": "code",
      "metadata": {
        "id": "JZgYwbtjubF8",
        "colab": {
          "base_uri": "https://localhost:8080/",
          "height": 34
        },
        "outputId": "825d01a1-0d24-452e-c3a3-1789ab6123b2"
      },
      "source": [
        "class City:\n",
        "  def __init__(self, x, y):\n",
        "    self.x = x\n",
        "    self.y = y\n",
        "\n",
        "  def distance(self, City):\n",
        "    xDis = abs(self.x - City.x)\n",
        "    yDis = abs(self.y - City.y)\n",
        "\n",
        "    distance = np.sqrt((xDis ** 2) + (yDis ** 2))\n",
        "    return distance\n",
        "\n",
        "  def __repr__(self):\n",
        "    return \"(\" + str(self.x) + \",\" + str(self.y) + \")\"\n",
        "\n",
        "jmlKota = 6\n",
        "cityList = []\n",
        "for i in range(jmlKota):\n",
        "  cityList.append(City(x = int(random.random() * 200), y = int(random.random() * 200)))\n",
        "print(cityList)"
      ],
      "execution_count": null,
      "outputs": [
        {
          "output_type": "stream",
          "text": [
            "[(48,62), (67,161), (117,138), (110,154), (93,189), (54,42)]\n"
          ],
          "name": "stdout"
        }
      ]
    },
    {
      "cell_type": "markdown",
      "metadata": {
        "id": "92EPztVrwVpw"
      },
      "source": [
        "**PRATIKUM 2**"
      ]
    },
    {
      "cell_type": "code",
      "metadata": {
        "id": "EGFkqOFPwGK9",
        "colab": {
          "base_uri": "https://localhost:8080/",
          "height": 34
        },
        "outputId": "d1b9c36e-64dd-45cc-8976-93b5fcac4d3a"
      },
      "source": [
        "def createRoute(cityList):\n",
        "  route = random.sample(cityList, len(cityList))\n",
        "  return route\n",
        "\n",
        "Route = createRoute(cityList)\n",
        "print ( \"rute : \", Route)"
      ],
      "execution_count": null,
      "outputs": [
        {
          "output_type": "stream",
          "text": [
            "rute :  [(54,42), (48,62), (117,138), (110,154), (93,189), (67,161)]\n"
          ],
          "name": "stdout"
        }
      ]
    },
    {
      "cell_type": "markdown",
      "metadata": {
        "id": "Czmv4Jjvw5cr"
      },
      "source": [
        "**PRATIKUM 3**"
      ]
    },
    {
      "cell_type": "code",
      "metadata": {
        "id": "2FIDywoMw72S",
        "colab": {
          "base_uri": "https://localhost:8080/",
          "height": 71
        },
        "outputId": "cd44d870-0940-48a3-f849-20970bd9a483"
      },
      "source": [
        "def initialPopulation(popSize, cityList):\n",
        "  population = []\n",
        "  for i in range(popSize):\n",
        "    population.append(createRoute(cityList))\n",
        "  return population\n",
        "\n",
        "popSize = 4\n",
        "pop = initialPopulation(popSize, cityList)\n",
        "print(\"Populasi : \\n\",pop)"
      ],
      "execution_count": null,
      "outputs": [
        {
          "output_type": "stream",
          "text": [
            "Populasi : \n",
            " [[(93,189), (54,42), (110,154), (117,138), (48,62), (67,161)], [(67,161), (110,154), (117,138), (48,62), (54,42), (93,189)], [(67,161), (48,62), (117,138), (93,189), (110,154), (54,42)], [(110,154), (93,189), (54,42), (117,138), (48,62), (67,161)]]\n"
          ],
          "name": "stdout"
        }
      ]
    },
    {
      "cell_type": "markdown",
      "metadata": {
        "id": "nzLKvPzS5fuo"
      },
      "source": [
        "**PRATIKUM 4**"
      ]
    },
    {
      "cell_type": "code",
      "metadata": {
        "id": "YYcr_-I45lmf",
        "colab": {
          "base_uri": "https://localhost:8080/",
          "height": 34
        },
        "outputId": "e50aaf08-bb1b-4359-f184-8c3fd1e78939"
      },
      "source": [
        "class Fitness:\n",
        "  def __init__(self, route):\n",
        "    self.route = route\n",
        "    self.distance = 0\n",
        "    self.Fitness = 0.0\n",
        "\n",
        "  def routeDistance(self):\n",
        "    if self.distance == 0:\n",
        "      pathDistance = 0\n",
        "      for i in range(len(self.route)):\n",
        "        fromCity = self.route[i]\n",
        "        toCity = None\n",
        "        if i + 1 < len(self.route):\n",
        "          toCity = self.route[i + 1]\n",
        "        else:\n",
        "          toCity = self.route[0]\n",
        "        pathDistance += fromCity.distance(toCity)\n",
        "      self.distance = pathDistance\n",
        "    return self.distance\n",
        "\n",
        "  def routeFitness(self):\n",
        "    if self.Fitness == 0:\n",
        "      self.Fitness = 1 / float(self.routeDistance())\n",
        "    return self.Fitness\n",
        "\n",
        "fitnessResult = {}\n",
        "for i in range(len(pop)):\n",
        "  fitnessResult[i] = Fitness(pop[i]).routeFitness()\n",
        "print(\"Fitness : \", fitnessResult)"
      ],
      "execution_count": null,
      "outputs": [
        {
          "output_type": "stream",
          "text": [
            "Fitness :  {0: 0.0018641547875142249, 1: 0.0026676893303018223, 2: 0.0018393867483142113, 3: 0.0018088275864568766}\n"
          ],
          "name": "stdout"
        }
      ]
    },
    {
      "cell_type": "markdown",
      "metadata": {
        "id": "_vcP_tBBBMl8"
      },
      "source": [
        "**PRATIKUM 5**"
      ]
    },
    {
      "cell_type": "code",
      "metadata": {
        "id": "hbGSZVDeBOgu",
        "colab": {
          "base_uri": "https://localhost:8080/",
          "height": 34
        },
        "outputId": "08c7e340-7630-44ea-ce0f-1b5f882a53e0"
      },
      "source": [
        "def rankRoutes(population):\n",
        "  fitnessResult = {}\n",
        "  for i in range(len(population)):\n",
        "    fitnessResult[i] = Fitness(population[i]).routeFitness()\n",
        "  return sorted(fitnessResult.items(), key  = operator.itemgetter(1), reverse = True)\n",
        "\n",
        "popRanked = rankRoutes(pop)\n",
        "print (\"rank Routes : \", popRanked)"
      ],
      "execution_count": null,
      "outputs": [
        {
          "output_type": "stream",
          "text": [
            "rank Routes :  [(1, 0.0026676893303018223), (0, 0.0018641547875142249), (2, 0.0018393867483142113), (3, 0.0018088275864568766)]\n"
          ],
          "name": "stdout"
        }
      ]
    }
  ]
}